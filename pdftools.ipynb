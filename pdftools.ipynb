{
 "cells": [
  {
   "cell_type": "code",
   "execution_count": 1,
   "id": "250addd3-c19b-4e9a-a8c3-340e9deda868",
   "metadata": {},
   "outputs": [],
   "source": [
    "import pymupdf\n",
    "import datetime"
   ]
  },
  {
   "cell_type": "markdown",
   "id": "86560455-b8c8-4512-8cdc-881b06241b1a",
   "metadata": {},
   "source": [
    "# Split two pdfs and merge them page after page"
   ]
  },
  {
   "cell_type": "code",
   "execution_count": 14,
   "id": "d3242994-5ac3-4b01-8cd5-926276e5fa22",
   "metadata": {},
   "outputs": [],
   "source": [
    "def pdf_merger(pdf1=\"\", pdf2=\"\"):\n",
    "    doc1 = pymupdf.open(pdf1)\n",
    "    doc2 = pymupdf.open(pdf2)\n",
    "    date = datetime.datetime.now().strftime(\"%Y-%m-%d\")\n",
    "\n",
    "    doc_merged = pymupdf.open()\n",
    "    len1 = len(doc1)\n",
    "    len2 = len(doc2)\n",
    "    maxlen = max(len1,len2)\n",
    "    minlen = min(len1,len2)\n",
    "    counter = 0\n",
    "\n",
    "    for i in range(maxlen):\n",
    "        if counter < len1:\n",
    "            doc_merged.insert_pdf(doc1, from_page=counter, to_page=counter)\n",
    "        if counter < len2:\n",
    "            doc_merged.insert_pdf(doc2, from_page=counter, to_page=counter)\n",
    "        doc_merged.save(f\"{date}-merged-document.pdf\")\n",
    "        counter = counter +1\n",
    "        print(f\"merging pages: {counter}\")\n",
    "    \n",
    "    "
   ]
  },
  {
   "cell_type": "code",
   "execution_count": 16,
   "id": "0a162912-4dde-4142-8989-31d163648db0",
   "metadata": {},
   "outputs": [],
   "source": [
    "# pdf_merger(\"pdf1.pdf\", \"pdf2.pdf\")"
   ]
  },
  {
   "cell_type": "markdown",
   "id": "d08917cf-4ec7-4eda-8047-a6270ab5890a",
   "metadata": {},
   "source": [
    "# Split multi-page PDF inro single pages"
   ]
  },
  {
   "cell_type": "code",
   "execution_count": 25,
   "id": "9c34ca2b-e8d5-4d96-9bfc-581fe99a6d97",
   "metadata": {},
   "outputs": [],
   "source": [
    "def pdf_splitter(filename=\"\"):\n",
    "    pdf = pymupdf.open(filename)\n",
    "    pages = len(pdf)\n",
    "    print(f\"Splitting {filename} into single-page pdfs\\n(...)\")\n",
    "    for page in range(pages):\n",
    "        output = pymupdf.open()\n",
    "        output.insert_pdf(pdf, from_page=page, to_page=page)\n",
    "        output.save(f\"{page}_{filename}\")\n",
    "    print(f\"Task complete. {pages} pages have been created\")"
   ]
  },
  {
   "cell_type": "code",
   "execution_count": 27,
   "id": "bb7a28e8-22f1-455a-bb53-c3d35f8662be",
   "metadata": {},
   "outputs": [],
   "source": [
    "# pdf_splitter(filename=\"pdf2.pdf\")"
   ]
  },
  {
   "cell_type": "code",
   "execution_count": null,
   "id": "8c300861-29d0-4e76-b767-e7d58cecbef6",
   "metadata": {},
   "outputs": [],
   "source": []
  }
 ],
 "metadata": {
  "kernelspec": {
   "display_name": "Python 3 (ipykernel)",
   "language": "python",
   "name": "python3"
  },
  "language_info": {
   "codemirror_mode": {
    "name": "ipython",
    "version": 3
   },
   "file_extension": ".py",
   "mimetype": "text/x-python",
   "name": "python",
   "nbconvert_exporter": "python",
   "pygments_lexer": "ipython3",
   "version": "3.12.3"
  }
 },
 "nbformat": 4,
 "nbformat_minor": 5
}
